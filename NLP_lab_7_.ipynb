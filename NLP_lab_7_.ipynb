{
  "nbformat": 4,
  "nbformat_minor": 0,
  "metadata": {
    "colab": {
      "provenance": []
    },
    "kernelspec": {
      "name": "python3",
      "display_name": "Python 3"
    },
    "language_info": {
      "name": "python"
    }
  },
  "cells": [
    {
      "cell_type": "code",
      "source": [
        "pip install fuzzywuzzy"
      ],
      "metadata": {
        "colab": {
          "base_uri": "https://localhost:8080/"
        },
        "id": "xIMZM45BGlbm",
        "outputId": "958311c2-1546-4818-fd92-c16acc6a0f2a"
      },
      "execution_count": 2,
      "outputs": [
        {
          "output_type": "stream",
          "name": "stdout",
          "text": [
            "Collecting fuzzywuzzy\n",
            "  Downloading fuzzywuzzy-0.18.0-py2.py3-none-any.whl.metadata (4.9 kB)\n",
            "Downloading fuzzywuzzy-0.18.0-py2.py3-none-any.whl (18 kB)\n",
            "Installing collected packages: fuzzywuzzy\n",
            "Successfully installed fuzzywuzzy-0.18.0\n"
          ]
        }
      ]
    },
    {
      "cell_type": "code",
      "execution_count": 3,
      "metadata": {
        "colab": {
          "base_uri": "https://localhost:8080/"
        },
        "id": "sqJI3XI0E75Z",
        "outputId": "96f8b7ee-8e56-4823-e3f4-5815f26270a7"
      },
      "outputs": [
        {
          "output_type": "stream",
          "name": "stderr",
          "text": [
            "/usr/local/lib/python3.10/dist-packages/fuzzywuzzy/fuzz.py:11: UserWarning: Using slow pure-python SequenceMatcher. Install python-Levenshtein to remove this warning\n",
            "  warnings.warn('Using slow pure-python SequenceMatcher. Install python-Levenshtein to remove this warning')\n"
          ]
        }
      ],
      "source": [
        "import pandas as pd\n",
        "from fuzzywuzzy import fuzz\n",
        "from fuzzywuzzy import process\n",
        "from sklearn.feature_extraction.text import CountVectorizer, TfidfVectorizer\n",
        "from sklearn.metrics.pairwise import cosine_similarity\n",
        "import numpy as np"
      ]
    },
    {
      "cell_type": "code",
      "source": [
        "resolved_queries_df = pd.read_csv('resolved_queries.csv')\n",
        "new_queries_df = pd.read_csv('new_queries.csv')"
      ],
      "metadata": {
        "id": "5h4YY4-IGglz"
      },
      "execution_count": 5,
      "outputs": []
    },
    {
      "cell_type": "code",
      "source": [
        "def preprocess_text(text):\n",
        "    return ' '.join(text.lower().strip().split())"
      ],
      "metadata": {
        "id": "FrjibaK7Grz5"
      },
      "execution_count": 6,
      "outputs": []
    },
    {
      "cell_type": "code",
      "source": [
        "resolved_queries_df['Pre_Resolved_Query'] = resolved_queries_df['Pre_Resolved_Query'].apply(preprocess_text)\n",
        "new_queries_df['Variation_Query'] = new_queries_df['Variation_Query'].apply(preprocess_text)\n"
      ],
      "metadata": {
        "id": "QtbPH2tLGxUX"
      },
      "execution_count": 7,
      "outputs": []
    },
    {
      "cell_type": "code",
      "source": [
        "resolved_queries_dict = dict(zip(resolved_queries_df['Query_ID'], resolved_queries_df['Pre_Resolved_Query']))"
      ],
      "metadata": {
        "id": "FqhDl_ZYGz_u"
      },
      "execution_count": 8,
      "outputs": []
    },
    {
      "cell_type": "code",
      "source": [
        "resolved_queries_list = [(str(k), v) for k, v in resolved_queries_dict.items()]"
      ],
      "metadata": {
        "id": "9ZtVCJ9YG2qX"
      },
      "execution_count": 9,
      "outputs": []
    },
    {
      "cell_type": "code",
      "source": [
        "resolved_query_texts = [v for _, v in resolved_queries_list]\n",
        "resolved_query_ids = [k for k, _ in resolved_queries_list]"
      ],
      "metadata": {
        "id": "PP-T8atHG40e"
      },
      "execution_count": 10,
      "outputs": []
    },
    {
      "cell_type": "code",
      "source": [
        "def find_best_fuzzy_match(query, resolved_query_texts, resolved_query_ids, method='ratio'):\n",
        "    if method == 'ratio':\n",
        "        match_text, match_score = process.extractOne(query, resolved_query_texts, scorer=fuzz.ratio)\n",
        "    elif method == 'partial_ratio':\n",
        "        match_text, match_score = process.extractOne(query, resolved_query_texts, scorer=fuzz.partial_ratio)\n",
        "    elif method == 'token_sort_ratio':\n",
        "        match_text, match_score = process.extractOne(query, resolved_query_texts, scorer=fuzz.token_sort_ratio)\n",
        "    elif method == 'token_set_ratio':\n",
        "        match_text, match_score = process.extractOne(query, resolved_query_texts, scorer=fuzz.token_set_ratio)\n",
        "    else:\n",
        "        raise ValueError(\"Invalid method specified.\")\n",
        "\n",
        "    match_id = resolved_query_ids[resolved_query_texts.index(match_text)]\n",
        "    return match_id, match_score"
      ],
      "metadata": {
        "id": "AruwKh-9G7Nb"
      },
      "execution_count": 12,
      "outputs": []
    },
    {
      "cell_type": "code",
      "source": [
        "methods = ['ratio', 'partial_ratio', 'token_sort_ratio', 'token_set_ratio']\n",
        "results = []"
      ],
      "metadata": {
        "id": "HUV8_4qDG_P_"
      },
      "execution_count": 13,
      "outputs": []
    },
    {
      "cell_type": "code",
      "source": [
        "\n",
        "for method in methods:\n",
        "    match_ids = []\n",
        "    match_scores = []\n",
        "    for query in new_queries_df['Variation_Query']:\n",
        "        match_id, match_score = find_best_fuzzy_match(query, resolved_query_texts, resolved_query_ids, method)\n",
        "        match_ids.append(match_id)\n",
        "        match_scores.append(match_score)\n",
        "\n",
        "    new_queries_df[f'Match_ID_{method}'] = match_ids\n",
        "    new_queries_df[f'Match_Score_{method}'] = match_scores\n",
        "\n",
        "    # Store results for evaluation\n",
        "    results.append((method, new_queries_df[f'Match_Score_{method}'].mean()))"
      ],
      "metadata": {
        "id": "5_rncMdnHGLN"
      },
      "execution_count": 14,
      "outputs": []
    },
    {
      "cell_type": "code",
      "source": [
        "print(\"Fuzzy Matching Results:\")\n",
        "for method, score in results:\n",
        "    print(f\"{method}: {score}\")"
      ],
      "metadata": {
        "colab": {
          "base_uri": "https://localhost:8080/"
        },
        "id": "q7ti-y18HJkQ",
        "outputId": "f1543fe6-5a43-4bba-bd41-6d88e3414788"
      },
      "execution_count": 15,
      "outputs": [
        {
          "output_type": "stream",
          "name": "stdout",
          "text": [
            "Fuzzy Matching Results:\n",
            "ratio: 64.35\n",
            "partial_ratio: 65.55\n",
            "token_sort_ratio: 70.55\n",
            "token_set_ratio: 75.5\n"
          ]
        }
      ]
    },
    {
      "cell_type": "code",
      "source": [
        "vectorizer_bow = CountVectorizer().fit(resolved_query_texts)\n",
        "resolved_bow_matrix = vectorizer_bow.transform(resolved_query_texts)\n",
        "\n",
        "# Vectorize the queries using TF-IDF\n",
        "vectorizer_tfidf = TfidfVectorizer().fit(resolved_query_texts)\n",
        "resolved_tfidf_matrix = vectorizer_tfidf.transform(resolved_query_texts)"
      ],
      "metadata": {
        "id": "IArEJjvQHLwM"
      },
      "execution_count": 16,
      "outputs": []
    },
    {
      "cell_type": "code",
      "source": [
        "def find_best_cosine_match(query, vectorizer, resolved_matrix):\n",
        "    query_vector = vectorizer.transform([query])\n",
        "    cosine_similarities = cosine_similarity(query_vector, resolved_matrix).flatten()\n",
        "    best_match_idx = cosine_similarities.argmax()\n",
        "    best_match_score = cosine_similarities[best_match_idx]\n",
        "    return resolved_query_ids[best_match_idx], best_match_score"
      ],
      "metadata": {
        "id": "I2mU0YpNHOgs"
      },
      "execution_count": 17,
      "outputs": []
    },
    {
      "cell_type": "code",
      "source": [
        "bow_match_ids = []\n",
        "bow_match_scores = []\n",
        "tfidf_match_ids = []\n",
        "tfidf_match_scores = []"
      ],
      "metadata": {
        "id": "JGTuFRwRHQuO"
      },
      "execution_count": 18,
      "outputs": []
    },
    {
      "cell_type": "code",
      "source": [
        "for query in new_queries_df['Variation_Query']:\n",
        "    # Bag of Words\n",
        "    bow_match_id, bow_match_score = find_best_cosine_match(query, vectorizer_bow, resolved_bow_matrix)\n",
        "    bow_match_ids.append(bow_match_id)\n",
        "    bow_match_scores.append(bow_match_score)\n",
        "\n",
        "    # TF-IDF\n",
        "    tfidf_match_id, tfidf_match_score = find_best_cosine_match(query, vectorizer_tfidf, resolved_tfidf_matrix)\n",
        "    tfidf_match_ids.append(tfidf_match_id)\n",
        "    tfidf_match_scores.append(tfidf_match_score)"
      ],
      "metadata": {
        "id": "fUnPo6XpHS_K"
      },
      "execution_count": 19,
      "outputs": []
    },
    {
      "cell_type": "code",
      "source": [
        "new_queries_df['Match_ID_BoW'] = bow_match_ids\n",
        "new_queries_df['Match_Score_BoW'] = bow_match_scores\n",
        "new_queries_df['Match_ID_TFIDF'] = tfidf_match_ids\n",
        "new_queries_df['Match_Score_TFIDF'] = tfidf_match_scores\n",
        "\n",
        "# Calculate the average match scores for BoW and TF-IDF\n",
        "bow_avg_score = np.mean(bow_match_scores)\n",
        "tfidf_avg_score = np.mean(tfidf_match_scores)"
      ],
      "metadata": {
        "id": "cL_BU_5NHVaP"
      },
      "execution_count": 20,
      "outputs": []
    },
    {
      "cell_type": "code",
      "source": [
        "print(\"\\nBoW and TF-IDF Results:\")\n",
        "print(f\"BoW Average Score: {bow_avg_score}\")\n",
        "print(f\"TF-IDF Average Score: {tfidf_avg_score}\")"
      ],
      "metadata": {
        "colab": {
          "base_uri": "https://localhost:8080/"
        },
        "id": "pECE8TYQHYVZ",
        "outputId": "7f57e0b2-59f9-4683-9107-bd0ed276613d"
      },
      "execution_count": 21,
      "outputs": [
        {
          "output_type": "stream",
          "name": "stdout",
          "text": [
            "\n",
            "BoW and TF-IDF Results:\n",
            "BoW Average Score: 0.6567198566742267\n",
            "TF-IDF Average Score: 0.6708402353184898\n"
          ]
        }
      ]
    },
    {
      "cell_type": "code",
      "source": [
        "#part 2\n",
        "import re"
      ],
      "metadata": {
        "id": "PNUzGnFDHaYH"
      },
      "execution_count": 22,
      "outputs": []
    },
    {
      "cell_type": "code",
      "source": [
        "\n",
        "base_names_df = pd.read_csv('base_names.csv')\n",
        "name_variations_df = pd.read_csv('name_variations.csv')"
      ],
      "metadata": {
        "id": "sdTyPP_kIZFw"
      },
      "execution_count": 23,
      "outputs": []
    },
    {
      "cell_type": "code",
      "source": [
        "def preprocess_name(name):\n",
        "    # Remove punctuation\n",
        "    name = re.sub(r'[^\\w\\s]', '', name)\n",
        "    # Convert to lowercase and remove extra spaces\n",
        "    return ' '.join(name.lower().strip().split())"
      ],
      "metadata": {
        "id": "DfxbDoWyIidZ"
      },
      "execution_count": 24,
      "outputs": []
    },
    {
      "cell_type": "code",
      "source": [
        "base_names_df['Base_Name'] = base_names_df['Base_Name'].apply(preprocess_name)\n",
        "name_variations_df['Variation'] = name_variations_df['Variation'].apply(preprocess_name)\n"
      ],
      "metadata": {
        "id": "50fZOHDFIkpp"
      },
      "execution_count": 25,
      "outputs": []
    },
    {
      "cell_type": "code",
      "source": [
        "# Create a dictionary of base names for fuzzy matching\n",
        "base_names_dict = dict(zip(base_names_df['Base_Name_ID'], base_names_df['Base_Name']))\n"
      ],
      "metadata": {
        "id": "CXOWW0OaIqCn"
      },
      "execution_count": 26,
      "outputs": []
    },
    {
      "cell_type": "code",
      "source": [
        "# Convert the dictionary to a list of base name texts and their IDs\n",
        "base_name_texts = [v for _, v in base_names_dict.items()]\n",
        "base_name_ids = [k for k, _ in base_names_dict.items()]"
      ],
      "metadata": {
        "id": "v_fmTc-3Irzv"
      },
      "execution_count": 27,
      "outputs": []
    },
    {
      "cell_type": "code",
      "source": [
        "# Function to find the best match using fuzzy matching\n",
        "def find_best_fuzzy_name_match(name_variation, base_name_texts, base_name_ids, method='token_set_ratio'):\n",
        "    if method == 'ratio':\n",
        "        match_text, match_score = process.extractOne(name_variation, base_name_texts, scorer=fuzz.ratio)\n",
        "    elif method == 'partial_ratio':\n",
        "        match_text, match_score = process.extractOne(name_variation, base_name_texts, scorer=fuzz.partial_ratio)\n",
        "    elif method == 'token_sort_ratio':\n",
        "        match_text, match_score = process.extractOne(name_variation, base_name_texts, scorer=fuzz.token_sort_ratio)\n",
        "    elif method == 'token_set_ratio':\n",
        "        match_text, match_score = process.extractOne(name_variation, base_name_texts, scorer=fuzz.token_set_ratio)\n",
        "    else:\n",
        "        raise ValueError(\"Invalid method specified.\")\n",
        "\n",
        "    # Find the index of the matched text to get the corresponding ID\n",
        "    match_id = base_name_ids[base_name_texts.index(match_text)]\n",
        "    return match_id, match_score"
      ],
      "metadata": {
        "id": "cJTKZxTZItsY"
      },
      "execution_count": 28,
      "outputs": []
    },
    {
      "cell_type": "code",
      "source": [
        "# Apply fuzzy matching using the best method (e.g., 'token_set_ratio') and store the results\n",
        "name_match_ids = []\n",
        "name_match_scores = []\n",
        "\n",
        "for name_variation in name_variations_df['Variation']:\n",
        "    match_id, match_score = find_best_fuzzy_name_match(name_variation, base_name_texts, base_name_ids, method='token_set_ratio')\n",
        "    name_match_ids.append(match_id)\n",
        "    name_match_scores.append(match_score)"
      ],
      "metadata": {
        "id": "VvYqH67vIwOG"
      },
      "execution_count": 29,
      "outputs": []
    },
    {
      "cell_type": "code",
      "source": [
        "name_variations_df['Matched_Base_Name_ID'] = name_match_ids\n",
        "name_variations_df['Match_Score'] = name_match_scores\n",
        "\n",
        "\n",
        "print(name_variations_df.head())"
      ],
      "metadata": {
        "colab": {
          "base_uri": "https://localhost:8080/"
        },
        "id": "m8KfnJIpIx3V",
        "outputId": "dd08ad7e-675f-4289-e85a-b9ad4cc3a8e8"
      },
      "execution_count": 30,
      "outputs": [
        {
          "output_type": "stream",
          "name": "stdout",
          "text": [
            "      Variation Matches_With_Base_Name  Matched_Base_Name_ID  Match_Score\n",
            "0   thomas king            Thomas King                    15          100\n",
            "1    thomasking            Thomas King                    15           57\n",
            "2  maria garcia           Maria Garcia                     4          100\n",
            "3     marylewis             Mary Lewis                    12           53\n",
            "4       nancy w           Nancy Wright                    16           83\n"
          ]
        }
      ]
    },
    {
      "cell_type": "code",
      "source": [],
      "metadata": {
        "id": "z29t57DBI0nP"
      },
      "execution_count": null,
      "outputs": []
    }
  ]
}